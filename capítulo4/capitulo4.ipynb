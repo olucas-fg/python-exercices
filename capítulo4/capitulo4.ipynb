{
  "nbformat": 4,
  "nbformat_minor": 0,
  "metadata": {
    "colab": {
      "provenance": []
    },
    "kernelspec": {
      "name": "python3",
      "display_name": "Python 3"
    },
    "language_info": {
      "name": "python"
    }
  },
  "cells": [
    {
      "cell_type": "markdown",
      "source": [
        "# Exercício 1\n"
      ],
      "metadata": {
        "id": "aUNMD-eoLCNr"
      }
    },
    {
      "cell_type": "code",
      "source": [
        "import numpy as np\n",
        "\n",
        "array_ones = np.ones(8, dtype=int)\n",
        "print(\"Array de 1's:\")\n",
        "print(array_ones)\n",
        "\n",
        "\n",
        "array_random = np.random.randint(0, 10, 8)\n",
        "print(\"\\nArray aleatório entre 0 e 9:\")\n",
        "print(array_random)\n",
        "\n",
        "array_sum = array_ones + array_random\n",
        "print(\"\\nArray resultante da soma:\")\n",
        "print(array_sum)\n",
        "\n",
        "total_sum = np.sum(array_sum)\n",
        "print(\"\\nSoma de todos os elementos do array resultante:\", total_sum)\n",
        "\n",
        "if total_sum >= 40:\n",
        "    array_reshaped = array_sum.reshape(4, 2)\n",
        "    print(\"\\nComo a soma >= 40, o array foi remodelado para 4 linhas e 2 colunas:\")\n",
        "else:\n",
        "    array_reshaped = array_sum.reshape(2, 4)\n",
        "    print(\"\\nComo a soma < 40, o array foi remodelado para 2 linhas e 4 colunas:\")\n",
        "\n",
        "print(array_reshaped)\n"
      ],
      "metadata": {
        "colab": {
          "base_uri": "https://localhost:8080/"
        },
        "id": "3C0vw3VELSUl",
        "outputId": "2806294e-6d31-4275-9d21-c29f7d7283bb"
      },
      "execution_count": 17,
      "outputs": [
        {
          "output_type": "stream",
          "name": "stdout",
          "text": [
            "Array de 1's:\n",
            "[1 1 1 1 1 1 1 1]\n",
            "\n",
            "Array aleatório entre 0 e 9:\n",
            "[3 4 3 6 1 2 9 1]\n",
            "\n",
            "Array resultante da soma:\n",
            "[ 4  5  4  7  2  3 10  2]\n",
            "\n",
            "Soma de todos os elementos do array resultante: 37\n",
            "\n",
            "Como a soma < 40, o array foi remodelado para 2 linhas e 4 colunas:\n",
            "[[ 4  5  4  7]\n",
            " [ 2  3 10  2]]\n"
          ]
        }
      ]
    },
    {
      "cell_type": "markdown",
      "source": [],
      "metadata": {
        "id": "owrW-GDPM4Wm"
      }
    },
    {
      "cell_type": "markdown",
      "source": [
        "# Exercício 2\n"
      ],
      "metadata": {
        "id": "jcoaseuEM6gX"
      }
    },
    {
      "cell_type": "code",
      "source": [
        "import numpy as np\n",
        "\n",
        "array1 = np.arange(0, 52, 2)\n",
        "\n",
        "array2 = np.arange(100, 49, -2)\n",
        "\n",
        "array_concat = np.concatenate([array1, array2])\n",
        "\n",
        "array_sorted = np.sort(array_concat)\n",
        "\n",
        "print(\"Array de pares 0 a 51:\", array1)\n",
        "print(\"Array de pares 100 até 50 (decrescente):\", array2)\n",
        "print(\"Concatenado:\", array_concat)\n",
        "print(\"Ordenado:\", array_sorted)\n"
      ],
      "metadata": {
        "colab": {
          "base_uri": "https://localhost:8080/"
        },
        "id": "6UXuLQ7kNJyV",
        "outputId": "a25871ae-682e-4696-a19d-a71528acdb65"
      },
      "execution_count": 18,
      "outputs": [
        {
          "output_type": "stream",
          "name": "stdout",
          "text": [
            "Array de pares 0 a 51: [ 0  2  4  6  8 10 12 14 16 18 20 22 24 26 28 30 32 34 36 38 40 42 44 46\n",
            " 48 50]\n",
            "Array de pares 100 até 50 (decrescente): [100  98  96  94  92  90  88  86  84  82  80  78  76  74  72  70  68  66\n",
            "  64  62  60  58  56  54  52  50]\n",
            "Concatenado: [  0   2   4   6   8  10  12  14  16  18  20  22  24  26  28  30  32  34\n",
            "  36  38  40  42  44  46  48  50 100  98  96  94  92  90  88  86  84  82\n",
            "  80  78  76  74  72  70  68  66  64  62  60  58  56  54  52  50]\n",
            "Ordenado: [  0   2   4   6   8  10  12  14  16  18  20  22  24  26  28  30  32  34\n",
            "  36  38  40  42  44  46  48  50  50  52  54  56  58  60  62  64  66  68\n",
            "  70  72  74  76  78  80  82  84  86  88  90  92  94  96  98 100]\n"
          ]
        }
      ]
    },
    {
      "cell_type": "markdown",
      "source": [
        "# Exercício 3\n"
      ],
      "metadata": {
        "id": "OGir5vNzOKj9"
      }
    },
    {
      "cell_type": "code",
      "source": [
        "import numpy as np\n",
        "\n",
        "board = np.zeros((2,2), dtype=int)\n",
        "print(board)\n",
        "\n",
        "# escolhe posição aleatória para colocar o 1\n",
        "linha = np.random.randint(0,2)\n",
        "coluna = np.random.randint(0,2)\n",
        "\n",
        "board[linha, coluna] = 1\n",
        "\n",
        "print(board)\n",
        "\n",
        "# até 3 tentativas\n",
        "for tentativa in range(3):\n",
        "    l = int(input(\"Digite a linha (0 ou 1): \"))\n",
        "    c = int(input(\"Digite a coluna (0 ou 1): \"))\n",
        "\n",
        "    if board[l, c] == 1:\n",
        "        print(\"Game Over! :( Try Again!\")\n",
        "        break\n",
        "else:  # só executa se não der break\n",
        "    print(\"Congratulations! You beat the game! :)\")\n"
      ],
      "metadata": {
        "colab": {
          "base_uri": "https://localhost:8080/"
        },
        "id": "iRBE_fjvOOgl",
        "outputId": "c8b67dfc-654b-406e-8ad5-b178b15ecb55"
      },
      "execution_count": 21,
      "outputs": [
        {
          "output_type": "stream",
          "name": "stdout",
          "text": [
            "[[0 0]\n",
            " [0 0]]\n",
            "[[0 0]\n",
            " [1 0]]\n",
            "Digite a linha (0 ou 1): 0\n",
            "Digite a coluna (0 ou 1): 0\n",
            "Digite a linha (0 ou 1): 0\n",
            "Digite a coluna (0 ou 1): 0\n",
            "Digite a linha (0 ou 1): 0\n",
            "Digite a coluna (0 ou 1): 0\n",
            "Congratulations! You beat the game! :)\n"
          ]
        }
      ]
    },
    {
      "cell_type": "markdown",
      "source": [
        "# Exercício 4\n"
      ],
      "metadata": {
        "id": "0x7UnSSaQAqY"
      }
    },
    {
      "cell_type": "code",
      "source": [
        "import numpy as np\n",
        "\n",
        "matriz = np.arange(12).reshape(3, 4)\n",
        "print(matriz)\n",
        "\n",
        "linhas, colunas = matriz.shape\n",
        "print(\"\\nLinhas:\", linhas, \" Colunas:\", colunas)\n",
        "\n",
        "total = linhas * colunas\n",
        "print(\"Total de elementos:\", total)\n",
        "\n",
        "\n",
        "if total % 2 == 0:\n",
        "    print(\"O vetor unidimensional teria um número PAR de elementos.\")\n",
        "else:\n",
        "    print(\"O vetor unidimensional teria um número ÍMPAR de elementos.\")\n"
      ],
      "metadata": {
        "colab": {
          "base_uri": "https://localhost:8080/"
        },
        "id": "PKAyT8feQFHC",
        "outputId": "bbe98da1-b2d6-4eae-bd6d-f009e1e8ea29"
      },
      "execution_count": 24,
      "outputs": [
        {
          "output_type": "stream",
          "name": "stdout",
          "text": [
            "[[ 0  1  2  3]\n",
            " [ 4  5  6  7]\n",
            " [ 8  9 10 11]]\n",
            "\n",
            "Linhas: 3  Colunas: 4\n",
            "Total de elementos: 12\n",
            "O vetor unidimensional teria um número PAR de elementos.\n"
          ]
        }
      ]
    },
    {
      "cell_type": "markdown",
      "source": [
        "# Exercício 5"
      ],
      "metadata": {
        "id": "w0CY6qeHQozp"
      }
    },
    {
      "cell_type": "code",
      "source": [
        "import numpy as np\n",
        "\n",
        "matriz = np.random.randint(1, 51, (4, 4))\n",
        "print(matriz)\n",
        "\n",
        "# a) Médias de linhas e colunas\n",
        "medias_linhas = np.mean(matriz, axis=1)\n",
        "medias_colunas = np.mean(matriz, axis=0)\n",
        "print(\"\\nMédia de cada linha:\", medias_linhas)\n",
        "print(\"Média de cada coluna:\", medias_colunas)\n",
        "\n",
        "# b) Maior média das linhas e colunas\n",
        "print(\"\\nMaior média das linhas:\", np.max(medias_linhas))\n",
        "print(\"Maior média das colunas:\", np.max(medias_colunas))\n",
        "\n",
        "# c) Contagem de aparições\n",
        "valores, contagens = np.unique(matriz, return_counts=True)\n",
        "print(\"\\nQuantidade de aparições de cada número:\")\n",
        "print(np.vstack((valores, contagens)).T)  # mostra em duas colunas (valor, contagem)\n",
        "\n",
        "# Apenas números que aparecem 2 vezes\n",
        "print(\"\\nNúmeros que aparecem exatamente 2 vezes:\")\n",
        "print(valores[contagens == 2])\n"
      ],
      "metadata": {
        "colab": {
          "base_uri": "https://localhost:8080/"
        },
        "id": "68kfRgKMQraR",
        "outputId": "e721bf10-f013-4f57-8a86-ef13946ebcc1"
      },
      "execution_count": 25,
      "outputs": [
        {
          "output_type": "stream",
          "name": "stdout",
          "text": [
            "[[38  8  5 47]\n",
            " [33 21 10 10]\n",
            " [31  2 14 13]\n",
            " [13 50  7  5]]\n",
            "\n",
            "Média de cada linha: [24.5  18.5  15.   18.75]\n",
            "Média de cada coluna: [28.75 20.25  9.   18.75]\n",
            "\n",
            "Maior média das linhas: 24.5\n",
            "Maior média das colunas: 28.75\n",
            "\n",
            "Quantidade de aparições de cada número:\n",
            "[[ 2  1]\n",
            " [ 5  2]\n",
            " [ 7  1]\n",
            " [ 8  1]\n",
            " [10  2]\n",
            " [13  2]\n",
            " [14  1]\n",
            " [21  1]\n",
            " [31  1]\n",
            " [33  1]\n",
            " [38  1]\n",
            " [47  1]\n",
            " [50  1]]\n",
            "\n",
            "Números que aparecem exatamente 2 vezes:\n",
            "[ 5 10 13]\n"
          ]
        }
      ]
    }
  ]
}